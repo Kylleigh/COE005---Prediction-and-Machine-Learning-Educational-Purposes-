{
 "cells": [
  {
   "cell_type": "code",
   "execution_count": 3,
   "id": "74fec52a",
   "metadata": {},
   "outputs": [],
   "source": [
    "import numpy as np\n",
    "import matplotlib.pyplot as plt\n",
    "import random\n",
    "\n",
    "from keras.datasets import mnist\n",
    "from keras.models import Sequential\n",
    "\n",
    "from keras.layers.core import Dense, Dropout, Activation\n",
    "from keras.utils import np_utils"
   ]
  },
  {
   "cell_type": "code",
   "execution_count": 5,
   "id": "5e5d4951",
   "metadata": {},
   "outputs": [
    {
     "name": "stdout",
     "output_type": "stream",
     "text": [
      "x_train shape (60000, 28, 28)\n",
      "y_train shape (60000,)\n",
      "x_test shape (10000, 28, 28)\n",
      "y_train shape (10000,)\n"
     ]
    }
   ],
   "source": [
    "(x_train, y_train), (x_test, y_test) = mnist.load_data()\n",
    "\n",
    "print('x_train shape',x_train.shape)\n",
    "print('y_train shape',y_train.shape)\n",
    "print('x_test shape',x_test.shape)\n",
    "print('y_train shape',y_test.shape)"
   ]
  },
  {
   "cell_type": "code",
   "execution_count": 8,
   "id": "da6490b8",
   "metadata": {},
   "outputs": [
    {
     "data": {
      "image/png": "[encoded data removed]",
      "text/plain": [
       "<Figure size 648x648 with 9 Axes>"
      ]
     },
     "metadata": {
      "needs_background": "light"
     },
     "output_type": "display_data"
    }
   ],
   "source": [
    "plt.rcParams['figure.figsize']=(9,9)\n",
    "\n",
    "for i in range(9):\n",
    "    plt.subplot(3,3,i+1)\n",
    "    num=random.randint(0, len(x_train))\n",
    "    plt.imshow(x_train[num], cmap='gray', interpolation = 'none')\n",
    "    plt.title('Class{}'.format(y_train[num]))\n",
    "    \n",
    "plt.tight_layout()"
   ]
  },
  {
   "cell_type": "code",
   "execution_count": 17,
   "id": "026d67db",
   "metadata": {},
   "outputs": [],
   "source": [
    "def matprint(mat, fmt='g'):\n",
    "    col_maxes = [max([len(('{:'+fmt+'}').format(x)) for x in col]) for col in mat.T]\n",
    "    for x in mat:\n",
    "        for i, y in enumerate(x):\n",
    "            print((\"{:\"+str(col_maxes[i])+fmt+\"}\").format(y), end=\"\")\n",
    "        print(\"\")\n",
    "        \n"
   ]
  },
  {
   "cell_type": "code",
   "execution_count": 18,
   "id": "f4182ad4",
   "metadata": {},
   "outputs": [
    {
     "name": "stdout",
     "output_type": "stream",
     "text": [
      "0000000  0  0  0  0  0  0  0  0  0  0  0  0  0  00000000\n",
      "0000000  0  0  0  0  0  0  0  0  0  0  0  0  0  00000000\n",
      "0000000  0  0  0  0  0  0  0  0  0  0  0  0  0  00000000\n",
      "0000000  0  0  0  0  0  0  0  0  0  0  0  0  0  00000000\n",
      "0000000  0  0  0 45132242195 70  0  0  0  0  0  00000000\n",
      "0000000  0  0  0 85252252252248145 70  8  0  0  00000000\n",
      "0000000  0  0  0 85252252252253252252188128  9  00000000\n",
      "0000000  0  0  0 28229252252253252252252252140  00000000\n",
      "0000000  0  0  0  0 62181192195252252252252232 340000000\n",
      "0000000  0  0  0  0  0  0  0  3 712252522522521390000000\n",
      "0000000  0  0  0  0  0  0  0  0  0157252252252 700000000\n",
      "0000000  0  0  0  0  0  0  0  5109239252252252 480000000\n",
      "0000000  0  0  0  0  0  0  0117252252252252 77  50000000\n",
      "0000000  0  0  0  0  0110178253252252252136  3  00000000\n",
      "0000000  0  0  0  5162253253255253252195  0  0  00000000\n",
      "0000000  0  0  7101252252252252216 93  0  0  0  00000000\n",
      "0000000  0  0147252252252252149  0  0  0  0  0  00000000\n",
      "0000000  0 64233252252252148  0  0  0  0  0  0  00000000\n",
      "0000000 35232252252252 88  4  0  0  0  0  0  0  00000000\n",
      "0000000140252252252252 89 73 73 38 73 59  0  0  00000000\n",
      "0000000 71252252252252252252253230252243205170 160000000\n",
      "0000000 49252252252252252252253252252252252252 480000000\n",
      "0000000  5 52227252252252252253252252252252169 270000000\n",
      "0000000  0  0  9 11 11 11 11 11 11 29154165 31  00000000\n",
      "0000000  0  0  0  0  0  0  0  0  0  0  0  0  0  00000000\n",
      "0000000  0  0  0  0  0  0  0  0  0  0  0  0  0  00000000\n",
      "0000000  0  0  0  0  0  0  0  0  0  0  0  0  0  00000000\n",
      "0000000  0  0  0  0  0  0  0  0  0  0  0  0  0  00000000\n"
     ]
    }
   ],
   "source": [
    "matprint(x_train[num])"
   ]
  },
  {
   "cell_type": "code",
   "execution_count": 22,
   "id": "55634c26",
   "metadata": {},
   "outputs": [
    {
     "name": "stdout",
     "output_type": "stream",
     "text": [
      "Training matrix shape (60000, 784)\n",
      "Testing matrix shape (10000, 784)\n"
     ]
    }
   ],
   "source": [
    "x_train = x_train.reshape(60000,784)\n",
    "x_test = x_test.reshape(10000,784)\n",
    "\n",
    "x_train = x_train.astype('float32')\n",
    "x_test = x_test.astype('float32')\n",
    "\n",
    "x_train /= 255\n",
    "x_test /= 255\n",
    "\n",
    "print('Training matrix shape', x_train.shape)\n",
    "print('Testing matrix shape', x_test.shape)\n"
   ]
  },
  {
   "cell_type": "code",
   "execution_count": 23,
   "id": "358342a4",
   "metadata": {},
   "outputs": [],
   "source": [
    "from keras.preprocessing.image import ImageDataGenerator\n",
    "from keras.layers import Conv2D, MaxPooling2D, ZeroPadding2D, GlobalAveragePooling2D, Flatten\n",
    "from tensorflow.keras.layers import BatchNormalization"
   ]
  },
  {
   "cell_type": "code",
   "execution_count": 24,
   "id": "6d013c85",
   "metadata": {},
   "outputs": [],
   "source": [
    "(x_train, y_train), (x_test, y_test) = mnist.load_data()"
   ]
  },
  {
   "cell_type": "code",
   "execution_count": 34,
   "id": "916f6e17",
   "metadata": {},
   "outputs": [
    {
     "name": "stdout",
     "output_type": "stream",
     "text": [
      "Training matrix shape (60000, 28, 28, 1)\n",
      "Testing matrix shape (10000, 28, 28, 1)\n"
     ]
    }
   ],
   "source": [
    "x_train=x_train.reshape(60000,28,28,1)\n",
    "x_test=x_test.reshape(10000,28,28,1)\n",
    "\n",
    "x_train = x_train.astype('float32')\n",
    "x_test = x_test.astype('float32')\n",
    "\n",
    "x_train /= 255\n",
    "x_test /= 255\n",
    "\n",
    "print('Training matrix shape', x_train.shape)\n",
    "print('Testing matrix shape', x_test.shape)"
   ]
  },
  {
   "cell_type": "code",
   "execution_count": 25,
   "id": "d9dc5e20",
   "metadata": {},
   "outputs": [],
   "source": [
    "nb_classes = 10\n",
    "\n",
    "y_train=np_utils.to_categorical(y_train, nb_classes)\n",
    "y_test = np_utils.to_categorical(y_test, nb_classes)"
   ]
  },
  {
   "cell_type": "code",
   "execution_count": 35,
   "id": "c1b54a00",
   "metadata": {},
   "outputs": [],
   "source": [
    "model = Sequential() # Linear stacking of layers\n",
    "\n",
    "# Convolution Layer 1\n",
    "model.add(Conv2D(32, (3, 3), input_shape=(28,28,1))) # 32 different 3x3 kernels -- so 32 feature maps\n",
    "model.add(BatchNormalization(axis=-1)) # normalize each feature map before activation\n",
    "convLayer01 = Activation('relu') # activation\n",
    "model.add(convLayer01)\n",
    "\n",
    "# Convolution Layer 2\n",
    "model.add(Conv2D(32, (3, 3))) # 32 different 3x3 kernels -- so 32 feature maps\n",
    "model.add(BatchNormalization(axis=-1)) # normalize each feature map before activation\n",
    "model.add(Activation('relu')) # activation\n",
    "convLayer02 = MaxPooling2D(pool_size=(2,2)) # Pool the max values over a 2x2 kernel\n",
    "model.add(convLayer02)\n",
    "\n",
    "# Convolution Layer 3\n",
    "model.add(Conv2D(64,(3, 3))) # 64 different 3x3 kernels -- so 64 feature maps\n",
    "model.add(BatchNormalization(axis=-1)) # normalize each feature map before activation\n",
    "convLayer03 = Activation('relu') # activation\n",
    "model.add(convLayer03)\n",
    "\n",
    "# Convolution Layer 4\n",
    "model.add(Conv2D(64, (3, 3))) # 64 different 3x3 kernels -- so 64 feature maps\n",
    "model.add(BatchNormalization(axis=-1)) # normalize each feature map before activation\n",
    "model.add(Activation('relu')) # activation\n",
    "convLayer04 = MaxPooling2D(pool_size=(2,2)) # Pool the max values over a 2x2 kernel\n",
    "model.add(convLayer04)\n",
    "model.add(Flatten()) # Flatten final 4x4x64 output matrix into a 1024-length vector\n",
    "\n",
    "# Fully Connected Layer 5\n",
    "model.add(Dense(512)) # 512 FCN nodes\n",
    "model.add(BatchNormalization()) # normalization\n",
    "model.add(Activation('relu')) # activation\n",
    "\n",
    "# Fully Connected Layer 6\n",
    "model.add(Dropout(0.2)) # 20% dropout of randomly selected nodes\n",
    "model.add(Dense(10)) # final 10 FCN nodes\n",
    "model.add(Activation('softmax')) # softmax activation"
   ]
  },
  {
   "cell_type": "code",
   "execution_count": 36,
   "id": "c4be202b",
   "metadata": {},
   "outputs": [
    {
     "name": "stdout",
     "output_type": "stream",
     "text": [
      "Model: \"sequential_2\"\n",
      "_________________________________________________________________\n",
      "Layer (type)                 Output Shape              Param #   \n",
      "=================================================================\n",
      "conv2d_8 (Conv2D)            (None, 26, 26, 32)        320       \n",
      "_________________________________________________________________\n",
      "batch_normalization_10 (Batc (None, 26, 26, 32)        128       \n",
      "_________________________________________________________________\n",
      "activation_12 (Activation)   (None, 26, 26, 32)        0         \n",
      "_________________________________________________________________\n",
      "conv2d_9 (Conv2D)            (None, 24, 24, 32)        9248      \n",
      "_________________________________________________________________\n",
      "batch_normalization_11 (Batc (None, 24, 24, 32)        128       \n",
      "_________________________________________________________________\n",
      "activation_13 (Activation)   (None, 24, 24, 32)        0         \n",
      "_________________________________________________________________\n",
      "max_pooling2d_4 (MaxPooling2 (None, 12, 12, 32)        0         \n",
      "_________________________________________________________________\n",
      "conv2d_10 (Conv2D)           (None, 10, 10, 64)        18496     \n",
      "_________________________________________________________________\n",
      "batch_normalization_12 (Batc (None, 10, 10, 64)        256       \n",
      "_________________________________________________________________\n",
      "activation_14 (Activation)   (None, 10, 10, 64)        0         \n",
      "_________________________________________________________________\n",
      "conv2d_11 (Conv2D)           (None, 8, 8, 64)          36928     \n",
      "_________________________________________________________________\n",
      "batch_normalization_13 (Batc (None, 8, 8, 64)          256       \n",
      "_________________________________________________________________\n",
      "activation_15 (Activation)   (None, 8, 8, 64)          0         \n",
      "_________________________________________________________________\n",
      "max_pooling2d_5 (MaxPooling2 (None, 4, 4, 64)          0         \n",
      "_________________________________________________________________\n",
      "flatten_2 (Flatten)          (None, 1024)              0         \n",
      "_________________________________________________________________\n",
      "dense_4 (Dense)              (None, 512)               524800    \n",
      "_________________________________________________________________\n",
      "batch_normalization_14 (Batc (None, 512)               2048      \n",
      "_________________________________________________________________\n",
      "activation_16 (Activation)   (None, 512)               0         \n",
      "_________________________________________________________________\n",
      "dropout_2 (Dropout)          (None, 512)               0         \n",
      "_________________________________________________________________\n",
      "dense_5 (Dense)              (None, 10)                5130      \n",
      "_________________________________________________________________\n",
      "activation_17 (Activation)   (None, 10)                0         \n",
      "=================================================================\n",
      "Total params: 597,738\n",
      "Trainable params: 596,330\n",
      "Non-trainable params: 1,408\n",
      "_________________________________________________________________\n"
     ]
    }
   ],
   "source": [
    "model.summary()"
   ]
  },
  {
   "cell_type": "code",
   "execution_count": 37,
   "id": "80dfea8d",
   "metadata": {},
   "outputs": [],
   "source": [
    "model.compile(loss='categorical_crossentropy', optimizer='adam', metrics=['accuracy'])"
   ]
  },
  {
   "cell_type": "code",
   "execution_count": 38,
   "id": "2da3914b",
   "metadata": {},
   "outputs": [],
   "source": [
    "gen = ImageDataGenerator(rotation_range=8, width_shift_range=0.08, shear_range=0.3,\n",
    "                        height_shift_range=0.08, zoom_range=0.08)\n",
    "test_gen= ImageDataGenerator()"
   ]
  },
  {
   "cell_type": "code",
   "execution_count": 39,
   "id": "f09776e6",
   "metadata": {},
   "outputs": [],
   "source": [
    "train_generator = gen.flow(x_train, y_train, batch_size=128)\n",
    "test_generator = test_gen.flow(x_test, y_test, batch_size=128)\n"
   ]
  },
  {
   "cell_type": "code",
   "execution_count": 40,
   "id": "bdb73227",
   "metadata": {},
   "outputs": [
    {
     "name": "stdout",
     "output_type": "stream",
     "text": [
      "313/313 [==============================] - 2s 5ms/step - loss: 2.3001 - accuracy: 0.0990\n",
      "Test score 2.300147771835327\n",
      "Tset accuracy 0.0989999994635582\n"
     ]
    }
   ],
   "source": [
    "score = model.evaluate(x_test, y_test)\n",
    "print('Test score', score[0])\n",
    "print('Tset accuracy', score[1])"
   ]
  },
  {
   "cell_type": "code",
   "execution_count": 43,
   "id": "351cd9ab",
   "metadata": {},
   "outputs": [
    {
     "name": "stderr",
     "output_type": "stream",
     "text": [
      "C:\\Users\\kylle\\miniconda3\\envs\\myenv2\\lib\\site-packages\\keras\\engine\\training.py:1972: UserWarning: `Model.fit_generator` is deprecated and will be removed in a future version. Please use `Model.fit`, which supports generators.\n",
      "  warnings.warn('`Model.fit_generator` is deprecated and '\n"
     ]
    },
    {
     "name": "stdout",
     "output_type": "stream",
     "text": [
      "Epoch 1/5\n",
      "468/468 [==============================] - 26s 55ms/step - loss: 0.1330 - accuracy: 0.9586 - val_loss: 0.0659 - val_accuracy: 0.9828\n",
      "Epoch 2/5\n",
      "468/468 [==============================] - 27s 59ms/step - loss: 0.0512 - accuracy: 0.9840 - val_loss: 0.0302 - val_accuracy: 0.9900\n",
      "Epoch 3/5\n",
      "468/468 [==============================] - 29s 62ms/step - loss: 0.0380 - accuracy: 0.9882 - val_loss: 0.0664 - val_accuracy: 0.9777\n",
      "Epoch 4/5\n",
      "468/468 [==============================] - 28s 60ms/step - loss: 0.0335 - accuracy: 0.9896 - val_loss: 0.0202 - val_accuracy: 0.9932\n",
      "Epoch 5/5\n",
      "468/468 [==============================] - 26s 56ms/step - loss: 0.0303 - accuracy: 0.9905 - val_loss: 0.0382 - val_accuracy: 0.9879\n"
     ]
    },
    {
     "data": {
      "text/plain": [
       "<keras.callbacks.History at 0x21852ea13d0>"
      ]
     },
     "execution_count": 43,
     "metadata": {},
     "output_type": "execute_result"
    }
   ],
   "source": [
    "model.fit_generator(train_generator, steps_per_epoch=60000//128, epochs=5, verbose=1,\n",
    "                   validation_data=test_generator, validation_steps=10000//128)"
   ]
  },
  {
   "cell_type": "code",
   "execution_count": 44,
   "id": "40a34de8",
   "metadata": {},
   "outputs": [
    {
     "name": "stdout",
     "output_type": "stream",
     "text": [
      "313/313 [==============================] - 2s 5ms/step - loss: 0.0381 - accuracy: 0.9879\n",
      "Test score:  0.038112424314022064\n",
      "Test accuracy:  0.9879000186920166\n"
     ]
    }
   ],
   "source": [
    "score = model.evaluate(x_test, y_test)\n",
    "print(\"Test score: \", score[0])\n",
    "print(\"Test accuracy: \", score[1])\n"
   ]
  },
  {
   "cell_type": "code",
   "execution_count": 52,
   "id": "61616c00",
   "metadata": {},
   "outputs": [
    {
     "ename": "IndentationError",
     "evalue": "unexpected indent (2142977450.py, line 23)",
     "output_type": "error",
     "traceback": [
      "\u001b[1;36m  Input \u001b[1;32mIn [52]\u001b[1;36m\u001b[0m\n\u001b[1;33m    m = convolutions.shape[2]\u001b[0m\n\u001b[1;37m    ^\u001b[0m\n\u001b[1;31mIndentationError\u001b[0m\u001b[1;31m:\u001b[0m unexpected indent\n"
     ]
    }
   ],
   "source": [
    "from keras import backend as K\n",
    "\n",
    "# choose any image to want by specifying the index\n",
    "img = x_test[3]\n",
    "img = np.expand_dims(img, axis=0) # Keras requires the image to be in 4D, so we add an extra dimension to it.\n",
    "\n",
    "# Not important to understand how this function work -- It just plots a convolution layer\n",
    "\n",
    "def visualize(layer):\n",
    "    inputs = [K.learning_phase()] + model.inputs\n",
    "\n",
    "    _convout1_f = K.function(inputs, [layer.output])\n",
    "\n",
    "def convout1_f(x):\n",
    "# The [0] is to disable the training phase flag\n",
    "    return _convout1_f([0] + [x])\n",
    "\n",
    "    convolutions = convout1_f(img)\n",
    "    convolutions = np.squeeze(convolutions)\n",
    "\n",
    "    print ('Shape of conv:', convolutions.shape)\n",
    "\n",
    "    m = convolutions.shape[2]\n",
    "    n = int(np.ceil(np.sqrt(m)))\n",
    "\n",
    "# Visualization of each filter of the layer\n",
    "    fig = plt.figure(figsize=(15,12))\n",
    "    for i in range(m):\n",
    "        ax = fig.add_subplot(n,n,i+1)\n",
    "        ax.imshow(convolutions[:,:,i], cmap='gray')"
   ]
  },
  {
   "cell_type": "code",
   "execution_count": 51,
   "id": "06c493ba",
   "metadata": {
    "scrolled": true
   },
   "outputs": [
    {
     "data": {
      "text/plain": [
       "<matplotlib.image.AxesImage at 0x2184567cfa0>"
      ]
     },
     "execution_count": 51,
     "metadata": {},
     "output_type": "execute_result"
    },
    {
     "data": {
      "image/png": "[encoded data removed]",
      "text/plain": [
       "<Figure size 648x648 with 1 Axes>"
      ]
     },
     "metadata": {
      "needs_background": "light"
     },
     "output_type": "display_data"
    }
   ],
   "source": [
    "plt.figure()\n",
    "plt.imshow(x_test[3].reshape(28,28), cmap='gray', interpolation='none')"
   ]
  },
  {
   "cell_type": "code",
   "execution_count": null,
   "id": "33120d40",
   "metadata": {},
   "outputs": [],
   "source": []
  }
 ],
 "metadata": {
  "kernelspec": {
   "display_name": "Python 3 (ipykernel)",
   "language": "python",
   "name": "python3"
  },
  "language_info": {
   "codemirror_mode": {
    "name": "ipython",
    "version": 3
   },
   "file_extension": ".py",
   "mimetype": "text/x-python",
   "name": "python",
   "nbconvert_exporter": "python",
   "pygments_lexer": "ipython3",
   "version": "3.9.12"
  }
 },
 "nbformat": 4,
 "nbformat_minor": 5
}
